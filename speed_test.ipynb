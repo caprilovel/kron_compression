{
 "cells": [
  {
   "cell_type": "markdown",
   "metadata": {},
   "source": []
  },
  {
   "cell_type": "code",
   "execution_count": 1,
   "metadata": {},
   "outputs": [],
   "source": [
    "import torch\n",
    "import torch.nn as nn\n",
    "import torch.nn.functional as F\n",
    "from utils.decomposition import kron\n",
    "from time import time\n",
    "\n"
   ]
  },
  {
   "cell_type": "code",
   "execution_count": 8,
   "metadata": {},
   "outputs": [
    {
     "name": "stdout",
     "output_type": "stream",
     "text": [
      "0.0003056526184082031\n",
      "0.0016417503356933594\n",
      "0.0001494884490966797\n"
     ]
    }
   ],
   "source": [
    "weight = nn.Parameter(torch.randn(10000, 10000))\n",
    "a = nn.Parameter(torch.randn(3, 100, 100))\n",
    "b = nn.Parameter(torch.randn(3, 100, 100))\n",
    "x = torch.randn(10000, 10000)\n",
    "weight = weight.cuda()\n",
    "a = a.cuda()\n",
    "b = b.cuda()\n",
    "x = x.cuda()\n",
    "# generate a sparse weight, size is (10000, 10000), but only 1000 * 1000 is non-zero\n",
    "sparse_weight = torch.randn(1000, 1000)\n",
    "sparse_weight = torch.reshape(sparse_weight, (1, -1)).squeeze(0)\n",
    "sparse_weight = torch.cat((sparse_weight, torch.zeros(99000000)))\n",
    "# shuffle the sparse_weight\n",
    "sparse_weight = sparse_weight[torch.randperm(sparse_weight.size()[0])]\n",
    "sparse_weight = torch.reshape(sparse_weight, (10000, 10000))\n",
    "sparse_weight = sparse_weight.cuda()\n",
    "\n",
    "start = time()\n",
    "y = torch.mm(weight, x)\n",
    "end1 = time()\n",
    "print(end1 - start)\n",
    "y = kron(a, b) @ x\n",
    "end2 = time()\n",
    "print(time() - end1)\n",
    "y = torch.mm(sparse_weight, x)\n",
    "end3 = time()\n",
    "print(end3 - end2)"
   ]
  }
 ],
 "metadata": {
  "kernelspec": {
   "display_name": "base",
   "language": "python",
   "name": "python3"
  },
  "language_info": {
   "codemirror_mode": {
    "name": "ipython",
    "version": 3
   },
   "file_extension": ".py",
   "mimetype": "text/x-python",
   "name": "python",
   "nbconvert_exporter": "python",
   "pygments_lexer": "ipython3",
   "version": "3.11.5"
  }
 },
 "nbformat": 4,
 "nbformat_minor": 2
}
